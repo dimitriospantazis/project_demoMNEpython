{
 "cells": [
  {
   "cell_type": "markdown",
   "metadata": {},
   "source": [
    "# Tutorial author: Dimitrios Pantazis"
   ]
  },
  {
   "cell_type": "markdown",
   "metadata": {},
   "source": [
    "# First run these in freesurfer (After mne installation, mne is a command in linux)\n",
    "# mne watershed_bem -s mysubject\n",
    "# mne make_scalp_surfaces -s mysubject"
   ]
  },
  {
   "cell_type": "code",
   "execution_count": 6,
   "metadata": {},
   "outputs": [
    {
     "name": "stdout",
     "output_type": "stream",
     "text": [
      "0 files missing from root.txt in f:\\MYPROJECTS16\\project_demoMNEpython\\recons\n",
      "0 files missing from bem.txt in f:\\MYPROJECTS16\\project_demoMNEpython\\recons\\fsaverage\n"
     ]
    },
    {
     "data": {
      "text/plain": [
       "'f:\\\\MYPROJECTS16\\\\project_demoMNEpython\\\\recons\\\\fsaverage'"
      ]
     },
     "execution_count": 6,
     "metadata": {},
     "output_type": "execute_result"
    }
   ],
   "source": [
    "import mne\n",
    "import os\n",
    "\n",
    "# Define directories\n",
    "project_dir = os.getcwd()\n",
    "data_dir = os.path.join(project_dir, 'rawMEGdata')\n",
    "\n",
    "# Define subject_dir\n",
    "mne.set_config('SUBJECTS_DIR',os.path.join(project_dir,'recons'))\n",
    "mne.datasets.fetch_fsaverage() #ensure fsaverage src exists\n"
   ]
  },
  {
   "cell_type": "code",
   "execution_count": 7,
   "metadata": {},
   "outputs": [
    {
     "name": "stdout",
     "output_type": "stream",
     "text": [
      "Using high resolution head model in f:\\MYPROJECTS16\\project_demoMNEpython\\recons\\subj04NN\\bem\\subj04NN-head-dense.fif\n",
      "    Triangle neighbors and vertex normals...\n",
      "Using fiducials from: f:\\MYPROJECTS16\\project_demoMNEpython\\recons\\subj04NN\\bem\\subj04NN-fiducials.fif.\n",
      "Using high resolution head model in f:\\MYPROJECTS16\\project_demoMNEpython\\recons\\fsaverage\\bem\\fsaverage-head-dense.fif\n",
      "    Triangle neighbors and vertex normals...\n",
      "Using fiducials from: f:\\MYPROJECTS16\\project_demoMNEpython\\recons\\fsaverage\\bem\\fsaverage-fiducials.fif.\n",
      "Loading MRI fiducials from f:\\MYPROJECTS16\\project_demoMNEpython\\recons\\fsaverage\\bem\\fsaverage-fiducials.fif... Done!\n",
      "Using high resolution head model in f:\\MYPROJECTS16\\project_demoMNEpython\\recons\\subj04NN\\bem\\subj04NN-head-dense.fif\n",
      "    Triangle neighbors and vertex normals...\n",
      "Using fiducials from: f:\\MYPROJECTS16\\project_demoMNEpython\\recons\\subj04NN\\bem\\subj04NN-fiducials.fif.\n",
      "Loading MRI fiducials from f:\\MYPROJECTS16\\project_demoMNEpython\\recons\\subj04NN\\bem\\subj04NN-fiducials.fif... Done!\n",
      "Using subj04NN-head-dense.fif for head surface.\n",
      "    1 BEM surfaces found\n",
      "    Reading a surface...\n",
      "[done]\n",
      "    1 BEM surfaces read\n",
      "Channel types::\tmag: 102, grad: 204\n",
      "Loading MRI fiducials from f:\\MYPROJECTS16\\project_demoMNEpython\\recons\\subj04NN\\bem\\subj04NN-fiducials.fif... Done!\n",
      "Using subj04NN-head-dense.fif for head surface.\n",
      "    1 BEM surfaces found\n",
      "    Reading a surface...\n",
      "[done]\n",
      "    1 BEM surfaces read\n",
      "Channel types::\tmag: 102, grad: 204\n"
     ]
    },
    {
     "data": {
      "text/plain": [
       "<mne.gui._coreg.CoregistrationUI at 0x24b7bc1d010>"
      ]
     },
     "execution_count": 7,
     "metadata": {},
     "output_type": "execute_result"
    }
   ],
   "source": [
    "# Coregister data with anatomy (see subject_coregistration.doc for instructions)\n",
    "subject='subj04NN'\n",
    "rawfile = os.path.join(data_dir,'subj04NN_sess01_raw_tsss.fif')\n",
    "mne.gui.coregistration(subject=subject,inst=rawfile) #follow instructions in subject_coregistration_screenshots.pdf\n",
    "    "
   ]
  },
  {
   "cell_type": "code",
   "execution_count": 8,
   "metadata": {},
   "outputs": [
    {
     "name": "stdout",
     "output_type": "stream",
     "text": [
      "Opening raw data file f:\\MYPROJECTS16\\project_demoMNEpython\\rawMEGdata\\subj04NN_sess01_raw_tsss.fif...\n",
      "    Range : 83000 ... 1705999 =     83.000 ...  1705.999 secs\n",
      "Ready.\n",
      "Opening raw data file f:\\MYPROJECTS16\\project_demoMNEpython\\rawMEGdata\\subj04NN_sess01_raw_tsss-1.fif...\n",
      "    Range : 1706000 ... 3328999 =   1706.000 ...  3328.999 secs\n",
      "Ready.\n",
      "Opening raw data file f:\\MYPROJECTS16\\project_demoMNEpython\\rawMEGdata\\subj04NN_sess01_raw_tsss-2.fif...\n",
      "    Range : 3329000 ... 4690999 =   3329.000 ...  4690.999 secs\n",
      "Ready.\n",
      "Using subj04NN-head-dense.fif for head surface.\n",
      "    1 BEM surfaces found\n",
      "    Reading a surface...\n",
      "[done]\n",
      "    1 BEM surfaces read\n",
      "Getting helmet for system 306m\n",
      "Channel types::\tmag: 102, grad: 204\n"
     ]
    },
    {
     "data": {
      "text/plain": [
       "<mne.viz.backends._pyvista.PyVistaFigure at 0x24ba8ce0290>"
      ]
     },
     "execution_count": 8,
     "metadata": {},
     "output_type": "execute_result"
    }
   ],
   "source": [
    "# Visualize registration (optional)\n",
    "raw = mne.io.read_raw_fif(rawfile)\n",
    "trans = os.path.join(data_dir,'subj04NN-trans.fif') #this is the output of coregistration function\n",
    "mne.viz.plot_alignment(raw.info,trans=trans,subject='subj04NN',dig=True,surfaces=['head-dense', 'white'], coord_frame='meg')\n"
   ]
  }
 ],
 "metadata": {
  "kernelspec": {
   "display_name": "mne",
   "language": "python",
   "name": "python3"
  },
  "language_info": {
   "codemirror_mode": {
    "name": "ipython",
    "version": 3
   },
   "file_extension": ".py",
   "mimetype": "text/x-python",
   "name": "python",
   "nbconvert_exporter": "python",
   "pygments_lexer": "ipython3",
   "version": "3.12.4"
  }
 },
 "nbformat": 4,
 "nbformat_minor": 2
}
