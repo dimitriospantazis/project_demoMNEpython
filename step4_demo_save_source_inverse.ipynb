{
 "cells": [
  {
   "cell_type": "code",
   "execution_count": 1,
   "metadata": {},
   "outputs": [],
   "source": [
    "import mne\n",
    "import os\n",
    "import numpy as np\n",
    "import matplotlib.pyplot as plt\n",
    "import timeit"
   ]
  },
  {
   "cell_type": "code",
   "execution_count": 2,
   "metadata": {},
   "outputs": [],
   "source": [
    "# Project directories\n",
    "project_dir = os.getcwd()\n",
    "os.chdir(project_dir)\n",
    "mne.set_config('SUBJECTS_DIR',os.path.join(project_dir,'recons'))\n",
    "data_dir = os.path.join(project_dir, 'rawMEGdata')\n",
    "rawfile = os.path.join(data_dir,'subj04NN_sess01_raw_tsss.fif')\n",
    "results_dir = os.path.join(project_dir,'results')"
   ]
  },
  {
   "cell_type": "code",
   "execution_count": 3,
   "metadata": {},
   "outputs": [
    {
     "name": "stdout",
     "output_type": "stream",
     "text": [
      "Reading f:\\MYPROJECTS16\\project_demoMNEpython\\data_tmp\\subj_0-epo.fif ...\n",
      "    Read a total of 2 projection items:\n",
      "        EOG-planar--0.200-0.200-PCA-01 (1 x 204) active\n",
      "        EOG-axial--0.200-0.200-PCA-01 (1 x 102) active\n",
      "    Found the data of interest:\n",
      "        t =    -200.00 ...     796.00 ms\n",
      "        0 CTF compensation matrices available\n",
      "Not setting metadata\n",
      "418 matching events found\n",
      "No baseline correction applied\n",
      "Created an SSP operator (subspace dimension = 2)\n",
      "2 projection items activated\n"
     ]
    }
   ],
   "source": [
    "# Read epochs\n",
    "epochs = mne.read_epochs('data_tmp\\\\subj_{}-epo.fif'.format(0), preload=True)"
   ]
  },
  {
   "cell_type": "code",
   "execution_count": 4,
   "metadata": {},
   "outputs": [
    {
     "name": "stdout",
     "output_type": "stream",
     "text": [
      "    306 x 306 full covariance (kind = 1) found.\n",
      "    Read a total of 2 projection items:\n",
      "        EOG-planar--0.200-0.200-PCA-01 (1 x 204) active\n",
      "        EOG-axial--0.200-0.200-PCA-01 (1 x 102) active\n"
     ]
    }
   ],
   "source": [
    "# Read noise covariance\n",
    "noise_cov = mne.read_cov('data_tmp\\\\subj_{}-noise-cov.fif'.format(0))"
   ]
  },
  {
   "cell_type": "code",
   "execution_count": 5,
   "metadata": {},
   "outputs": [
    {
     "name": "stdout",
     "output_type": "stream",
     "text": [
      "Setting up the source space with the following parameters:\n",
      "\n",
      "SUBJECTS_DIR = f:\\MYPROJECTS16\\project_demoMNEpython\\recons\n",
      "Subject      = subj04NN\n",
      "Surface      = white\n",
      "Octahedron subdivision grade 6\n",
      "\n",
      ">>> 1. Creating the source space...\n",
      "\n",
      "Doing the octahedral vertex picking...\n",
      "Loading f:\\MYPROJECTS16\\project_demoMNEpython\\recons\\subj04NN\\surf\\lh.white...\n",
      "Mapping lh subj04NN -> oct (6) ...\n",
      "    Triangle neighbors and vertex normals...\n",
      "Loading geometry from f:\\MYPROJECTS16\\project_demoMNEpython\\recons\\subj04NN\\surf\\lh.sphere...\n",
      "Setting up the triangulation for the decimated surface...\n",
      "loaded lh.white 4098/132113 selected to source space (oct = 6)\n",
      "\n",
      "Loading f:\\MYPROJECTS16\\project_demoMNEpython\\recons\\subj04NN\\surf\\rh.white...\n",
      "Mapping rh subj04NN -> oct (6) ...\n",
      "    Triangle neighbors and vertex normals...\n",
      "Loading geometry from f:\\MYPROJECTS16\\project_demoMNEpython\\recons\\subj04NN\\surf\\rh.sphere...\n",
      "Setting up the triangulation for the decimated surface...\n",
      "loaded rh.white 4098/135176 selected to source space (oct = 6)\n",
      "\n",
      "Calculating patch information (limit=0.0 mm)...\n",
      "    Computing patch statistics...\n",
      "    Patch information added...\n",
      "    Computing patch statistics...\n",
      "    Patch information added...\n",
      "You are now one step closer to computing the gain matrix\n",
      "Overwriting existing file.\n",
      "    Write a source space...\n",
      "    [done]\n",
      "    Write a source space...\n",
      "    [done]\n",
      "    2 source spaces written\n"
     ]
    }
   ],
   "source": [
    "# Setup source space (computes a downsampled surface on white matter)\n",
    "subjectname = 'subj04NN'\n",
    "src = mne.setup_source_space(subject=subjectname, spacing='oct6', add_dist='patch')\n",
    "# mne.viz.plot_bem(subject=subjectname, brain_surfaces='white', src=src,orientation='coronal')\n",
    "mne.write_source_spaces('data_tmp\\\\subj_{}-src.fif'.format(0), src, overwrite=True)\n"
   ]
  },
  {
   "cell_type": "code",
   "execution_count": 6,
   "metadata": {},
   "outputs": [],
   "source": [
    "# Link to tranformation file (registration of MEG - MRI anatomy)\n",
    "trans = os.path.join(os.path.join(data_dir,subjectname + '-trans.fif'))"
   ]
  },
  {
   "cell_type": "code",
   "execution_count": 7,
   "metadata": {},
   "outputs": [
    {
     "name": "stdout",
     "output_type": "stream",
     "text": [
      "Using pyvistaqt 3d backend.\n",
      "\n"
     ]
    }
   ],
   "source": [
    "# Visualize source space\n",
    "fig = mne.viz.plot_alignment(trans=trans, subject=subjectname, surfaces='white', coord_frame='head', src=src)\n",
    "mne.viz.set_3d_view(fig, azimuth=173.78, elevation=101.75,\n",
    "                    distance=0.30, focalpoint=(-0.03, 0.02, 0.05))"
   ]
  },
  {
   "cell_type": "code",
   "execution_count": 8,
   "metadata": {},
   "outputs": [
    {
     "name": "stdout",
     "output_type": "stream",
     "text": [
      "Creating the BEM geometry...\n",
      "Going from 5th to 5th subdivision of an icosahedron (n_tri: 20480 -> 20480)\n",
      "inner skull CM is  -2.08 -21.79  -3.43 mm\n",
      "Surfaces passed the basic topology checks.\n",
      "Complete.\n",
      "\n",
      "Homogeneous model surface loaded.\n",
      "Computing the linear collocation solution...\n",
      "    Matrix coefficients...\n",
      "        inner skull (10242) -> inner skull (10242) ...\n",
      "    Inverting the coefficient matrix...\n",
      "Solution ready.\n",
      "BEM geometry computations complete.\n"
     ]
    }
   ],
   "source": [
    "# Compute forward solution\n",
    "conductivity = (0.3,)  # for single layer\n",
    "# conductivity = (0.3, 0.006, 0.3)  # for three layers for EEG\n",
    "model = mne.make_bem_model(subject=subjectname, ico=5, conductivity=conductivity)\n",
    "bem = mne.make_bem_solution(model)"
   ]
  },
  {
   "cell_type": "code",
   "execution_count": 9,
   "metadata": {},
   "outputs": [
    {
     "name": "stdout",
     "output_type": "stream",
     "text": [
      "Source space          : <SourceSpaces: [<surface (lh), n_vertices=132113, n_used=4098>, <surface (rh), n_vertices=135176, n_used=4098>] MRI (surface RAS) coords, subject 'subj04NN', ~24.7 MB>\n",
      "MRI -> head transform : f:\\MYPROJECTS16\\project_demoMNEpython\\rawMEGdata\\subj04NN-trans.fif\n",
      "Measurement data      : instance of Info\n",
      "Conductor model   : instance of ConductorModel\n",
      "Accurate field computations\n",
      "Do computations in head coordinates\n",
      "Free source orientations\n",
      "\n",
      "Read 2 source spaces a total of 8196 active source locations\n",
      "\n",
      "Coordinate transformation: MRI (surface RAS) -> head\n",
      "    0.998123 0.048752 -0.037063      -0.37 mm\n",
      "    -0.018625 0.818178 0.574663      31.55 mm\n",
      "    0.058340 -0.572894 0.817550      50.91 mm\n",
      "    0.000000 0.000000 0.000000       1.00\n",
      "\n",
      "Read 306 MEG channels from info\n",
      "105 coil definitions read\n",
      "Coordinate transformation: MEG device -> head\n",
      "    0.998461 -0.052463 -0.017983      -2.21 mm\n",
      "    0.054980 0.978883 0.196886      10.23 mm\n",
      "    0.007274 -0.197571 0.980261      52.70 mm\n",
      "    0.000000 0.000000 0.000000       1.00\n",
      "MEG coil definitions created in head coordinates.\n",
      "Source spaces are now in head coordinates.\n",
      "\n",
      "Employing the head->MRI coordinate transform with the BEM model.\n",
      "BEM model instance of ConductorModel is now set up\n",
      "\n",
      "Source spaces are in head coordinates.\n",
      "Checking that the sources are inside the surface and at least    5.0 mm away (will take a few...)\n",
      "Checking surface interior status for 4098 points...\n",
      "    Found 1179/4098 points inside  an interior sphere of radius   47.2 mm\n",
      "    Found    0/4098 points outside an exterior sphere of radius   96.0 mm\n",
      "    Found    0/2919 points outside using surface Qhull\n",
      "    Found    0/2919 points outside using solid angles\n",
      "    Total 4098/4098 points inside the surface\n",
      "Interior check completed in 7994.9 ms\n",
      "    1 source space point omitted because of the    5.0-mm distance limit.\n",
      "    Computing patch statistics...\n",
      "    Patch information added...\n",
      "Checking surface interior status for 4098 points...\n",
      "    Found 1220/4098 points inside  an interior sphere of radius   47.2 mm\n",
      "    Found    0/4098 points outside an exterior sphere of radius   96.0 mm\n",
      "    Found    0/2878 points outside using surface Qhull\n",
      "    Found    0/2878 points outside using solid angles\n",
      "    Total 4098/4098 points inside the surface\n",
      "Interior check completed in 8015.3 ms\n",
      "\n",
      "Checking surface interior status for 306 points...\n",
      "    Found   0/306 points inside  an interior sphere of radius   47.2 mm\n",
      "    Found 306/306 points outside an exterior sphere of radius   96.0 mm\n",
      "    Found   0/  0 points outside using surface Qhull\n",
      "    Found   0/  0 points outside using solid angles\n",
      "    Total 0/306 points inside the surface\n",
      "Interior check completed in 171.0 ms\n",
      "\n",
      "Composing the field computation matrix...\n",
      "Computing MEG at 8195 source locations (free orientations)...\n",
      "\n",
      "Finished.\n",
      "Overwriting existing file.\n",
      "    Write a source space...\n",
      "    [done]\n",
      "    Write a source space...\n",
      "    [done]\n",
      "    2 source spaces written\n"
     ]
    }
   ],
   "source": [
    "# Forward model\n",
    "fwd = mne.make_forward_solution(epochs.info, trans=trans, src=src, bem=bem,\n",
    "                                        meg=True, eeg=False, mindist=5.0, n_jobs=1)\n",
    "mne.write_forward_solution(os.path.join(project_dir,'data_tmp\\\\subj_{}-fwd.fif'.format(0)), fwd, overwrite=True)"
   ]
  },
  {
   "cell_type": "code",
   "execution_count": 11,
   "metadata": {},
   "outputs": [
    {
     "name": "stdout",
     "output_type": "stream",
     "text": [
      "Converting forward solution to surface orientation\n",
      "    Average patch normals will be employed in the rotation to the local surface coordinates....\n",
      "    Converting to surface-based source orientations...\n",
      "    [done]\n",
      "Computing inverse operator with 306 channels.\n",
      "    306 out of 306 channels remain after picking\n",
      "Selected 306 channels\n",
      "Creating the depth weighting matrix...\n",
      "    204 planar channels\n",
      "    limit = 7793/8195 = 10.003567\n",
      "    scale = 4.60382e-08 exp = 0.8\n",
      "Applying loose dipole orientations to surface source spaces: 0.2\n",
      "Whitening the forward solution.\n",
      "    Created an SSP operator (subspace dimension = 2)\n",
      "Computing rank from covariance with rank=None\n",
      "    Using tolerance 2.8e-13 (2.2e-16 eps * 306 dim * 4.1  max singular value)\n",
      "    Estimated rank (mag + grad): 304\n",
      "    MEG: rank 304 computed from 306 data channels with 2 projectors\n",
      "    Setting small MEG eigenvalues to zero (without PCA)\n"
     ]
    },
    {
     "name": "stderr",
     "output_type": "stream",
     "text": [
      "C:\\Users\\pantazis\\AppData\\Local\\Temp\\ipykernel_53476\\2687742720.py:3: RuntimeWarning: Something went wrong in the data-driven estimation of the data rank as it exceeds the theoretical rank from the info (304 > 69). Consider setting rank to \"auto\" or setting it explicitly as an integer.\n",
      "  inv = mne.minimum_norm.make_inverse_operator(epochs.info, fwd, noise_cov, loose=0.2, depth=0.8)\n"
     ]
    },
    {
     "name": "stdout",
     "output_type": "stream",
     "text": [
      "Creating the source covariance matrix\n",
      "Adjusting source covariance matrix.\n"
     ]
    },
    {
     "name": "stderr",
     "output_type": "stream",
     "text": [
      "C:\\Users\\pantazis\\AppData\\Local\\Temp\\ipykernel_53476\\2687742720.py:3: RuntimeWarning: Something went wrong in the data-driven estimation of the data rank as it exceeds the theoretical rank from the info (304 > 69). Consider setting rank to \"auto\" or setting it explicitly as an integer.\n",
      "  inv = mne.minimum_norm.make_inverse_operator(epochs.info, fwd, noise_cov, loose=0.2, depth=0.8)\n"
     ]
    },
    {
     "name": "stdout",
     "output_type": "stream",
     "text": [
      "Computing SVD of whitened and weighted lead field matrix.\n",
      "    largest singular value = 16.3661\n",
      "    scaling factor to adjust the trace = 1.88017e+22 (nchan = 306 nzero = 2)\n",
      "Overwriting existing file.\n",
      "Write inverse operator decomposition in f:\\MYPROJECTS16\\project_demoMNEpython\\data_tmp\\subj0-inv.fif...\n",
      "    Write a source space...\n",
      "    [done]\n",
      "    Write a source space...\n",
      "    [done]\n",
      "    2 source spaces written\n",
      "    Writing inverse operator info...\n",
      "    Writing noise covariance matrix.\n",
      "    Writing source covariance matrix.\n",
      "    Writing orientation priors.\n",
      "    [done]\n"
     ]
    }
   ],
   "source": [
    "# Inverse operator\n",
    "# notice, loose=0 means orientation constrain normal to the cortex; loose non-zero allows the orientation to vary\n",
    "inv = mne.minimum_norm.make_inverse_operator(epochs.info, fwd, noise_cov, loose=0.2, depth=0.8)\n",
    "mne.minimum_norm.write_inverse_operator('data_tmp\\\\subj{}-inv.fif'.format(0), inv, overwrite=True)"
   ]
  }
 ],
 "metadata": {
  "kernelspec": {
   "display_name": "mne",
   "language": "python",
   "name": "python3"
  },
  "language_info": {
   "codemirror_mode": {
    "name": "ipython",
    "version": 3
   },
   "file_extension": ".py",
   "mimetype": "text/x-python",
   "name": "python",
   "nbconvert_exporter": "python",
   "pygments_lexer": "ipython3",
   "version": "3.12.4"
  }
 },
 "nbformat": 4,
 "nbformat_minor": 2
}
